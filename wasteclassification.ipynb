{
 "cells": [
  {
   "cell_type": "markdown",
   "metadata": {},
   "source": [
    "## waste management using CNN model\n"
   ]
  },
  {
   "cell_type": "code",
   "execution_count": 1,
   "metadata": {},
   "outputs": [
    {
     "name": "stdout",
     "output_type": "stream",
     "text": [
      "Collecting opencv-pythonNote: you may need to restart the kernel to use updated packages.\n"
     ]
    },
    {
     "name": "stderr",
     "output_type": "stream",
     "text": [
      "WARNING: You are using pip version 20.2.3; however, version 24.3.1 is available.\n",
      "You should consider upgrading via the 'c:\\Users\\HTMS1\\AppData\\Local\\Programs\\Python\\Python39\\python.exe -m pip install --upgrade pip' command.\n"
     ]
    },
    {
     "name": "stdout",
     "output_type": "stream",
     "text": [
      "\n",
      "  Downloading opencv_python-4.11.0.86-cp37-abi3-win_amd64.whl (39.5 MB)\n",
      "Requirement already satisfied: numpy>=1.17.0; python_version >= \"3.7\" in c:\\users\\htms1\\appdata\\local\\programs\\python\\python39\\lib\\site-packages (from opencv-python) (2.0.2)\n",
      "Installing collected packages: opencv-python\n",
      "Successfully installed opencv-python-4.11.0.86\n"
     ]
    }
   ],
   "source": [
    "pip install opencv-python"
   ]
  },
  {
   "cell_type": "code",
   "execution_count": 10,
   "metadata": {},
   "outputs": [],
   "source": [
    "# importing necessary libraries\n",
    "import pandas as pd\n",
    "import numpy as np\n",
    "import matplotlib.pyplot as plt\n",
    "import cv2\n",
    "from tqdm import tqdm\n",
    "import warnings\n",
    "warnings.filterwarnings('ignore')"
   ]
  },
  {
   "cell_type": "code",
   "execution_count": 1,
   "metadata": {},
   "outputs": [],
   "source": [
    "train_path=\"dataset/TRAIN\"\n",
    "test_path=\"dataset/TEST\""
   ]
  },
  {
   "cell_type": "code",
   "execution_count": 2,
   "metadata": {},
   "outputs": [],
   "source": [
    "from tensorflow.keras.models import Sequential\n",
    "from tensorflow.keras.layers import Conv2D, MaxPooling2D, Activation, Dropout, Flatten, Dense, BatchNormalization\n",
    "from tensorflow.keras.preprocessing.image import ImageDataGenerator, img_to_array, load_img\n",
    "from tensorflow.keras.utils import plot_model\n",
    "from glob import glob"
   ]
  },
  {
   "cell_type": "code",
   "execution_count": 16,
   "metadata": {},
   "outputs": [
    {
     "name": "stderr",
     "output_type": "stream",
     "text": [
      "100%|██████████| 12565/12565 [01:51<00:00, 113.15it/s]\n",
      "100%|██████████| 9999/9999 [02:01<00:00, 82.57it/s] \n"
     ]
    }
   ],
   "source": [
    "#visualization\n",
    "import pandas as pd\n",
    "from tqdm import tqdm\n",
    "from cv2 import cvtColor\n",
    "x_data=[]\n",
    "y_data=[]\n",
    "for category in glob(train_path+'/*'):\n",
    "    for file in tqdm(glob(category+'/*')):\n",
    "        img_array= cv2.imread(file)\n",
    "        img_array= cv2.cvtColor(img_array,cv2.COLOR_BGR2RGB)\n",
    "        x_data.append(img_array)\n",
    "        y_data.append(category.split('/')[-1])\n",
    "data=pd.DataFrame({'image':x_data,'label':y_data})"
   ]
  },
  {
   "cell_type": "code",
   "execution_count": 17,
   "metadata": {},
   "outputs": [
    {
     "data": {
      "text/plain": [
       "(22564, 2)"
      ]
     },
     "execution_count": 17,
     "metadata": {},
     "output_type": "execute_result"
    }
   ],
   "source": [
    "data.shape"
   ]
  },
  {
   "cell_type": "code",
   "execution_count": 14,
   "metadata": {},
   "outputs": [
    {
     "name": "stdout",
     "output_type": "stream",
     "text": [
      "Organic percentage: 55.69%\n",
      "Recyclable percentage: 44.31%\n"
     ]
    },
    {
     "data": {
      "image/png": "[encoded data removed]",
      "text/plain": [
       "<Figure size 640x480 with 1 Axes>"
      ]
     },
     "metadata": {},
     "output_type": "display_data"
    }
   ],
   "source": [
    "import matplotlib.pyplot as plt\n",
    "import numpy as np\n",
    "\n",
    "# Total count (chosen for precision)\n",
    "total_items = 10000  # Large number to ensure precision\n",
    "organic_count = round(55.69 / 100 * total_items)  # Use round to avoid precision errors\n",
    "recyclable_count = total_items - organic_count  # Remaining count ensures exact proportions\n",
    "\n",
    "# Print percentages for verification\n",
    "print(f\"Organic percentage: {(organic_count / total_items) * 100:.2f}%\")\n",
    "print(f\"Recyclable percentage: {(recyclable_count / total_items) * 100:.2f}%\")\n",
    "\n",
    "# Simulated data\n",
    "counts = [organic_count, recyclable_count]\n",
    "labels = ['organic', 'recyclable']\n",
    "\n",
    "# Define your own colors\n",
    "colors = ['#386641', '#bc4749']  # Example: Green for organic, Orange for recyclable\n",
    "\n",
    "# Exploding the slices slightly\n",
    "explode = [0.05] * len(counts)\n",
    "\n",
    "# Plotting the pie chart\n",
    "plt.pie(counts, labels=labels, autopct='%0.2f%%', colors=colors, startangle=90, explode=explode)\n",
    "plt.title('Distribution of Organic and Recyclable Items')  # Optional title\n",
    "plt.show()"
   ]
  }
 ],
 "metadata": {
  "kernelspec": {
   "display_name": "Python 3",
   "language": "python",
   "name": "python3"
  },
  "language_info": {
   "codemirror_mode": {
    "name": "ipython",
    "version": 3
   },
   "file_extension": ".py",
   "mimetype": "text/x-python",
   "name": "python",
   "nbconvert_exporter": "python",
   "pygments_lexer": "ipython3",
   "version": "3.9.2"
  }
 },
 "nbformat": 4,
 "nbformat_minor": 2
}
